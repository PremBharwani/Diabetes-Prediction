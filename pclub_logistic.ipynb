{
 "cells": [
  {
   "cell_type": "markdown",
   "id": "88fbae1e",
   "metadata": {},
   "source": [
    "# Diabetes Detection submission by Prem Bharwani\n",
    "\n",
    "---\n"
   ]
  },
  {
   "cell_type": "markdown",
   "id": "98e15569",
   "metadata": {},
   "source": [
    "### Importing all the modules\n"
   ]
  },
  {
   "cell_type": "code",
   "execution_count": 29,
   "id": "630890d6",
   "metadata": {},
   "outputs": [],
   "source": [
    "import pandas as pd\n",
    "import matplotlib.pyplot as plt\n",
    "import numpy as np\n",
    "from sklearn.linear_model import LogisticRegression\n",
    "from sklearn.model_selection import train_test_split\n",
    "from sklearn import metrics"
   ]
  },
  {
   "cell_type": "markdown",
   "id": "5f470cd1",
   "metadata": {},
   "source": [
    "### Load the csv file"
   ]
  },
  {
   "cell_type": "code",
   "execution_count": 30,
   "id": "18fe394d",
   "metadata": {},
   "outputs": [
    {
     "name": "stdout",
     "output_type": "stream",
     "text": [
      "False\n",
      "False\n"
     ]
    }
   ],
   "source": [
    "#note that I have locally stored the dataset file in the same directory as the notebook\n",
    "Data = pd.read_csv(\"diabetes2.csv\")\n",
    "print(Data.isna().any().any())\n",
    "print(Data.isnull().any().any())"
   ]
  },
  {
   "cell_type": "markdown",
   "id": "d1b4d9d4",
   "metadata": {},
   "source": [
    "### Please note that the dataset has NO missing values ,No preprocessing required so we're good to go !"
   ]
  },
  {
   "cell_type": "markdown",
   "id": "0ab4f8dd",
   "metadata": {},
   "source": [
    "### Seperating the features and the target"
   ]
  },
  {
   "cell_type": "code",
   "execution_count": 31,
   "id": "a9a31ee4",
   "metadata": {},
   "outputs": [],
   "source": [
    "#Getting the \"Outcome\" column and then Dropping the column 'Outcome' from the Data (Axis=1 indicates that the column should be dropped!)\n",
    "y=Data[\"Outcome\"]\n",
    "X=Data.drop(\"Outcome\",axis=1)\n",
    "# X.head()\n",
    "# type(y)"
   ]
  },
  {
   "cell_type": "markdown",
   "id": "1741b1e6",
   "metadata": {},
   "source": [
    "### Splitting in the given ratio using the train_test_split function of sklearn"
   ]
  },
  {
   "cell_type": "code",
   "execution_count": 32,
   "id": "c25435c5",
   "metadata": {},
   "outputs": [],
   "source": [
    "x_train , x_test , y_train , y_test = train_test_split( X, y , test_size=0.2 , random_state=4)\n",
    "# len(x_train)\n",
    "# y_train.head()"
   ]
  },
  {
   "cell_type": "markdown",
   "id": "630cbaa5",
   "metadata": {},
   "source": [
    "### Training the model using Logistic Regression"
   ]
  },
  {
   "cell_type": "code",
   "execution_count": 33,
   "id": "2c09c0e4",
   "metadata": {},
   "outputs": [
    {
     "data": {
      "text/plain": [
       "LogisticRegression(max_iter=500)"
      ]
     },
     "execution_count": 33,
     "metadata": {},
     "output_type": "execute_result"
    }
   ],
   "source": [
    "model = LogisticRegression(max_iter=500)\n",
    "model.fit(x_train,y_train)"
   ]
  },
  {
   "cell_type": "code",
   "execution_count": 34,
   "id": "9fcab278",
   "metadata": {},
   "outputs": [
    {
     "name": "stdout",
     "output_type": "stream",
     "text": [
      "0.8116883116883117\n"
     ]
    }
   ],
   "source": [
    "predictions = model.predict(x_test)\n",
    "model_score = model.score(x_test,y_test)\n",
    "print(model_score)\n",
    "# help(model)"
   ]
  },
  {
   "cell_type": "markdown",
   "id": "afe914cd",
   "metadata": {},
   "source": [
    "## Accuracy on Test datasets"
   ]
  },
  {
   "cell_type": "code",
   "execution_count": 35,
   "id": "f9de18ae",
   "metadata": {},
   "outputs": [
    {
     "data": {
      "text/plain": [
       "'Accuracy on the test dataset : 125/154 (81.17%)'"
      ]
     },
     "execution_count": 35,
     "metadata": {},
     "output_type": "execute_result"
    }
   ],
   "source": [
    "arr1=predictions.tolist()\n",
    "arr2=(y_test).tolist()\n",
    "correct=0\n",
    "for x in range(len(arr1)):\n",
    "    if arr1[x]==arr2[x]:\n",
    "        correct+=1\n",
    "op_str=\"Accuracy on the test dataset : {}/{} ({:.2%})\".format(correct,len(arr1),model_score)\n",
    "op_str"
   ]
  },
  {
   "cell_type": "markdown",
   "id": "f7731dca",
   "metadata": {},
   "source": [
    "## Okay so we got a score of 125/154 , which amounts to ~81.17% accuracy !"
   ]
  }
 ],
 "metadata": {
  "kernelspec": {
   "display_name": "Python 3",
   "language": "python",
   "name": "python3"
  },
  "language_info": {
   "codemirror_mode": {
    "name": "ipython",
    "version": 3
   },
   "file_extension": ".py",
   "mimetype": "text/x-python",
   "name": "python",
   "nbconvert_exporter": "python",
   "pygments_lexer": "ipython3",
   "version": "3.8.5"
  }
 },
 "nbformat": 4,
 "nbformat_minor": 5
}
