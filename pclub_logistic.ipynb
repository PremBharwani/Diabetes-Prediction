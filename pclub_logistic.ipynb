{
 "cells": [
  {
   "cell_type": "markdown",
   "id": "20d2bea1",
   "metadata": {},
   "source": [
    "# Diabetes Detection submission by Prem Bharwani"
   ]
  },
  {
   "cell_type": "markdown",
   "id": "b2c91ddc",
   "metadata": {},
   "source": [
    "#### Importing all the modules\n"
   ]
  },
  {
   "cell_type": "code",
   "execution_count": 108,
   "id": "2dfa76ee",
   "metadata": {},
   "outputs": [],
   "source": [
    "import pandas as pd\n",
    "import sys\n",
    "import io\n",
    "import matplotlib.pyplot as plt\n",
    "import numpy as np\n",
    "from sklearn.linear_model import LogisticRegression\n",
    "from sklearn.model_selection import train_test_split\n",
    "from sklearn import metrics"
   ]
  },
  {
   "cell_type": "markdown",
   "id": "89d742a8",
   "metadata": {},
   "source": [
    "#### Load the csv file"
   ]
  },
  {
   "cell_type": "code",
   "execution_count": 43,
   "id": "c825ea7b",
   "metadata": {},
   "outputs": [
    {
     "data": {
      "text/plain": [
       "False"
      ]
     },
     "execution_count": 43,
     "metadata": {},
     "output_type": "execute_result"
    }
   ],
   "source": [
    "#note that I have locally stored the dataset file in the same directory as the notebook\n",
    "Data = pd.read_csv(\"diabetes2.csv\")\n",
    "Data.isna().any().any()\n",
    "Data.isnull().any().any()"
   ]
  },
  {
   "cell_type": "markdown",
   "id": "b7ecd904",
   "metadata": {},
   "source": [
    "#### Please note that the dataset has NO missing values ,No preprocessing required so we're good to go !"
   ]
  },
  {
   "cell_type": "markdown",
   "id": "bfbf5e1b",
   "metadata": {},
   "source": [
    "#### Seperating the features and the target"
   ]
  },
  {
   "cell_type": "code",
   "execution_count": 32,
   "id": "cfd696e8",
   "metadata": {},
   "outputs": [],
   "source": [
    "#Getting the \"Outcome\" column and then Dropping the column 'Outcome' from the Data (Axis=1 indicates that the column should be dropped!)\n",
    "y=Data[\"Outcome\"]\n",
    "X=Data.drop(\"Outcome\",axis=1)\n",
    "# X.head()\n",
    "# type(y)"
   ]
  },
  {
   "cell_type": "markdown",
   "id": "8eda1340",
   "metadata": {},
   "source": [
    "#### Splitting in the given ratio using the train_test_split function of sklearn"
   ]
  },
  {
   "cell_type": "code",
   "execution_count": 34,
   "id": "8d32f6f9",
   "metadata": {},
   "outputs": [],
   "source": [
    "x_train , x_test , y_train , y_test = train_test_split( X, y , test_size=0.2 , random_state=4)\n",
    "# y_train.head()"
   ]
  },
  {
   "cell_type": "markdown",
   "id": "02236661",
   "metadata": {},
   "source": [
    "#### Training the model using Logistic Regression"
   ]
  },
  {
   "cell_type": "code",
   "execution_count": 51,
   "id": "a16cff50",
   "metadata": {},
   "outputs": [
    {
     "ename": "NameError",
     "evalue": "name 'kwargs' is not defined",
     "output_type": "error",
     "traceback": [
      "\u001b[0;31m---------------------------------------------------------------------------\u001b[0m",
      "\u001b[0;31mNameError\u001b[0m                                 Traceback (most recent call last)",
      "\u001b[0;32m<ipython-input-51-ddb1a996d534>\u001b[0m in \u001b[0;36m<module>\u001b[0;34m\u001b[0m\n\u001b[0;32m----> 1\u001b[0;31m \u001b[0mmodel\u001b[0m \u001b[0;34m=\u001b[0m \u001b[0mLogisticRegression\u001b[0m\u001b[0;34m(\u001b[0m\u001b[0;34m**\u001b[0m\u001b[0mkwargs\u001b[0m\u001b[0;34m,\u001b[0m\u001b[0mverbose\u001b[0m\u001b[0;34m=\u001b[0m\u001b[0;36m1\u001b[0m\u001b[0;34m,\u001b[0m\u001b[0mmax_iter\u001b[0m\u001b[0;34m=\u001b[0m\u001b[0;36m500\u001b[0m\u001b[0;34m)\u001b[0m\u001b[0;34m\u001b[0m\u001b[0;34m\u001b[0m\u001b[0m\n\u001b[0m\u001b[1;32m      2\u001b[0m \u001b[0mmodel\u001b[0m\u001b[0;34m.\u001b[0m\u001b[0mfit\u001b[0m\u001b[0;34m(\u001b[0m\u001b[0mx_train\u001b[0m\u001b[0;34m,\u001b[0m\u001b[0my_train\u001b[0m\u001b[0;34m)\u001b[0m\u001b[0;34m\u001b[0m\u001b[0;34m\u001b[0m\u001b[0m\n",
      "\u001b[0;31mNameError\u001b[0m: name 'kwargs' is not defined"
     ]
    }
   ],
   "source": [
    "# model = LogisticRegression(max_iter=500)\n",
    "# model.fit(x_train,y_train)"
   ]
  },
  {
   "cell_type": "code",
   "execution_count": 110,
   "id": "a555fa3e",
   "metadata": {},
   "outputs": [
    {
     "name": "stderr",
     "output_type": "stream",
     "text": [
      "[Parallel(n_jobs=1)]: Using backend SequentialBackend with 1 concurrent workers.\n",
      "[Parallel(n_jobs=1)]: Done   1 out of   1 | elapsed:    0.0s finished\n"
     ]
    },
    {
     "data": {
      "image/png": "[encoded data removed]",
      "text/plain": [
       "<Figure size 432x288 with 1 Axes>"
      ]
     },
     "metadata": {
      "needs_background": "light"
     },
     "output_type": "display_data"
    }
   ],
   "source": [
    "class DisplayLossCurve(object):\n",
    "  def __init__(self, print_loss=False):\n",
    "    self.print_loss = print_loss\n",
    "\n",
    "  \"\"\"Make sure the model verbose is set to 1\"\"\"\n",
    "  def __enter__(self):\n",
    "    self.old_stdout = sys.stdout\n",
    "    sys.stdout = self.mystdout = io.StringIO()\n",
    "  \n",
    "  def __exit__(self, *args):\n",
    "    sys.stdout = self.old_stdout\n",
    "    loss_history = self.mystdout.getvalue()\n",
    "    loss_list = []\n",
    "    for line in loss_history.split('\\n'):\n",
    "      if(len(line.split(\"loss: \")) == 1):\n",
    "        continue\n",
    "      loss_list.append(float(line.split(\"loss: \")[-1]))\n",
    "    plt.figure()\n",
    "    plt.plot(np.arange(len(loss_list)), loss_list)\n",
    "    plt.xlabel(\"Epoch\")\n",
    "    plt.ylabel(\"Loss\")\n",
    "\n",
    "    if self.print_loss:\n",
    "      print(\"=============== Loss Array ===============\")\n",
    "      print(np.array(loss_list))\n",
    "      \n",
    "    return True\n",
    "\n",
    "model = LogisticRegression(verbose=1,max_iter=500)\n",
    "\n",
    "with DisplayLossCurve():\n",
    "  model.fit(x_train, y_train)\n",
    "\n"
   ]
  },
  {
   "cell_type": "code",
   "execution_count": 72,
   "id": "b16ff857",
   "metadata": {},
   "outputs": [],
   "source": [
    "predictions = model.predict(x_test)\n",
    "model_score = model.score(x_test,y_test)\n",
    "print(model_score)\n",
    "# help(model)"
   ]
  }
 ],
 "metadata": {
  "kernelspec": {
   "display_name": "Python 3",
   "language": "python",
   "name": "python3"
  },
  "language_info": {
   "codemirror_mode": {
    "name": "ipython",
    "version": 3
   },
   "file_extension": ".py",
   "mimetype": "text/x-python",
   "name": "python",
   "nbconvert_exporter": "python",
   "pygments_lexer": "ipython3",
   "version": "3.8.5"
  }
 },
 "nbformat": 4,
 "nbformat_minor": 5
}
